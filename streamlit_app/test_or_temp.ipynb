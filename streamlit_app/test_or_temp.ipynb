{
 "cells": [
  {
   "cell_type": "code",
   "execution_count": 33,
   "id": "8b4a7476-9c2a-4269-bfe9-3579dcc9e09f",
   "metadata": {},
   "outputs": [],
   "source": [
    "import joblib"
   ]
  },
  {
   "cell_type": "code",
   "execution_count": 34,
   "id": "fd3cd1c9-bc00-4b50-869b-b32661a4d181",
   "metadata": {},
   "outputs": [],
   "source": [
    "art = joblib.load(r\"C:\\Users\\91948\\Downloads\\BKs\\Projects\\personalized_health_insurance_premium_estimator\\artifacts\\insurance_premium_pipeline_rest.joblib\")"
   ]
  },
  {
   "cell_type": "code",
   "execution_count": 59,
   "id": "0dfda915-723e-4064-b0ee-d46d8af3b95d",
   "metadata": {},
   "outputs": [
    {
     "data": {
      "text/html": [
       "<div>\n",
       "<style scoped>\n",
       "    .dataframe tbody tr th:only-of-type {\n",
       "        vertical-align: middle;\n",
       "    }\n",
       "\n",
       "    .dataframe tbody tr th {\n",
       "        vertical-align: top;\n",
       "    }\n",
       "\n",
       "    .dataframe thead th {\n",
       "        text-align: right;\n",
       "    }\n",
       "</style>\n",
       "<table border=\"1\" class=\"dataframe\">\n",
       "  <thead>\n",
       "    <tr style=\"text-align: right;\">\n",
       "      <th></th>\n",
       "      <th>age</th>\n",
       "      <th>number_of_dependants</th>\n",
       "      <th>income_lakhs</th>\n",
       "      <th>insurance_plan</th>\n",
       "      <th>genetical_risk</th>\n",
       "      <th>total_risk_score</th>\n",
       "      <th>gender_Male</th>\n",
       "      <th>region_Northwest</th>\n",
       "      <th>region_Southeast</th>\n",
       "      <th>region_Southwest</th>\n",
       "      <th>marital_status_Unmarried</th>\n",
       "      <th>bmi_category_Obesity</th>\n",
       "      <th>bmi_category_Overweight</th>\n",
       "      <th>bmi_category_Underweight</th>\n",
       "      <th>smoking_status_Occasional</th>\n",
       "      <th>smoking_status_Regular</th>\n",
       "      <th>employment_status_Salaried</th>\n",
       "      <th>employment_status_Self-Employed</th>\n",
       "    </tr>\n",
       "  </thead>\n",
       "  <tbody>\n",
       "    <tr>\n",
       "      <th>0</th>\n",
       "      <td>0</td>\n",
       "      <td>0</td>\n",
       "      <td>0</td>\n",
       "      <td>0</td>\n",
       "      <td>0</td>\n",
       "      <td>0</td>\n",
       "      <td>0</td>\n",
       "      <td>0</td>\n",
       "      <td>0</td>\n",
       "      <td>0</td>\n",
       "      <td>0</td>\n",
       "      <td>0</td>\n",
       "      <td>0</td>\n",
       "      <td>0</td>\n",
       "      <td>0</td>\n",
       "      <td>0</td>\n",
       "      <td>0</td>\n",
       "      <td>0</td>\n",
       "    </tr>\n",
       "  </tbody>\n",
       "</table>\n",
       "</div>"
      ],
      "text/plain": [
       "   age  number_of_dependants  income_lakhs  insurance_plan  genetical_risk  \\\n",
       "0    0                     0             0               0               0   \n",
       "\n",
       "   total_risk_score  gender_Male  region_Northwest  region_Southeast  \\\n",
       "0                 0            0                 0                 0   \n",
       "\n",
       "   region_Southwest  marital_status_Unmarried  bmi_category_Obesity  \\\n",
       "0                 0                         0                     0   \n",
       "\n",
       "   bmi_category_Overweight  bmi_category_Underweight  \\\n",
       "0                        0                         0   \n",
       "\n",
       "   smoking_status_Occasional  smoking_status_Regular  \\\n",
       "0                          0                       0   \n",
       "\n",
       "   employment_status_Salaried  employment_status_Self-Employed  \n",
       "0                           0                                0  "
      ]
     },
     "execution_count": 59,
     "metadata": {},
     "output_type": "execute_result"
    }
   ],
   "source": [
    "import pandas as pd\n",
    "\n",
    "df = pd.DataFrame(data=0,index=[0],columns=art['model_data']['feature_names'])\n",
    "df"
   ]
  },
  {
   "cell_type": "code",
   "execution_count": 60,
   "id": "fa594fe1-ac15-42eb-bd0d-5fdb0c3a3bbc",
   "metadata": {},
   "outputs": [
    {
     "data": {
      "text/plain": [
       "Index(['age', 'number_of_dependants', 'income_lakhs', 'insurance_plan',\n",
       "       'genetical_risk', 'total_risk_score', 'gender_Male', 'region_Northwest',\n",
       "       'region_Southeast', 'region_Southwest', 'marital_status_Unmarried',\n",
       "       'bmi_category_Obesity', 'bmi_category_Overweight',\n",
       "       'bmi_category_Underweight', 'smoking_status_Occasional',\n",
       "       'smoking_status_Regular', 'employment_status_Salaried',\n",
       "       'employment_status_Self-Employed'],\n",
       "      dtype='object')"
      ]
     },
     "execution_count": 60,
     "metadata": {},
     "output_type": "execute_result"
    }
   ],
   "source": [
    "df.columns"
   ]
  },
  {
   "cell_type": "code",
   "execution_count": 61,
   "id": "a191db51-2562-41c6-a779-0d3aaac18747",
   "metadata": {},
   "outputs": [],
   "source": [
    "df[['age', 'number_of_dependants', 'income_lakhs', 'insurance_plan','genetical_risk', 'total_risk_score']] = [29,2,6,1,0,6,]"
   ]
  },
  {
   "cell_type": "code",
   "execution_count": 62,
   "id": "522196b7-bd82-4819-88c8-2476426bba4a",
   "metadata": {},
   "outputs": [
    {
     "data": {
      "text/html": [
       "<div>\n",
       "<style scoped>\n",
       "    .dataframe tbody tr th:only-of-type {\n",
       "        vertical-align: middle;\n",
       "    }\n",
       "\n",
       "    .dataframe tbody tr th {\n",
       "        vertical-align: top;\n",
       "    }\n",
       "\n",
       "    .dataframe thead th {\n",
       "        text-align: right;\n",
       "    }\n",
       "</style>\n",
       "<table border=\"1\" class=\"dataframe\">\n",
       "  <thead>\n",
       "    <tr style=\"text-align: right;\">\n",
       "      <th></th>\n",
       "      <th>age</th>\n",
       "      <th>number_of_dependants</th>\n",
       "      <th>income_lakhs</th>\n",
       "      <th>insurance_plan</th>\n",
       "      <th>genetical_risk</th>\n",
       "      <th>total_risk_score</th>\n",
       "      <th>gender_Male</th>\n",
       "      <th>region_Northwest</th>\n",
       "      <th>region_Southeast</th>\n",
       "      <th>region_Southwest</th>\n",
       "      <th>marital_status_Unmarried</th>\n",
       "      <th>bmi_category_Obesity</th>\n",
       "      <th>bmi_category_Overweight</th>\n",
       "      <th>bmi_category_Underweight</th>\n",
       "      <th>smoking_status_Occasional</th>\n",
       "      <th>smoking_status_Regular</th>\n",
       "      <th>employment_status_Salaried</th>\n",
       "      <th>employment_status_Self-Employed</th>\n",
       "    </tr>\n",
       "  </thead>\n",
       "  <tbody>\n",
       "    <tr>\n",
       "      <th>0</th>\n",
       "      <td>29</td>\n",
       "      <td>2</td>\n",
       "      <td>6</td>\n",
       "      <td>1</td>\n",
       "      <td>0</td>\n",
       "      <td>6</td>\n",
       "      <td>0</td>\n",
       "      <td>0</td>\n",
       "      <td>0</td>\n",
       "      <td>0</td>\n",
       "      <td>0</td>\n",
       "      <td>0</td>\n",
       "      <td>0</td>\n",
       "      <td>0</td>\n",
       "      <td>0</td>\n",
       "      <td>0</td>\n",
       "      <td>0</td>\n",
       "      <td>0</td>\n",
       "    </tr>\n",
       "  </tbody>\n",
       "</table>\n",
       "</div>"
      ],
      "text/plain": [
       "   age  number_of_dependants  income_lakhs  insurance_plan  genetical_risk  \\\n",
       "0   29                     2             6               1               0   \n",
       "\n",
       "   total_risk_score  gender_Male  region_Northwest  region_Southeast  \\\n",
       "0                 6            0                 0                 0   \n",
       "\n",
       "   region_Southwest  marital_status_Unmarried  bmi_category_Obesity  \\\n",
       "0                 0                         0                     0   \n",
       "\n",
       "   bmi_category_Overweight  bmi_category_Underweight  \\\n",
       "0                        0                         0   \n",
       "\n",
       "   smoking_status_Occasional  smoking_status_Regular  \\\n",
       "0                          0                       0   \n",
       "\n",
       "   employment_status_Salaried  employment_status_Self-Employed  \n",
       "0                           0                                0  "
      ]
     },
     "execution_count": 62,
     "metadata": {},
     "output_type": "execute_result"
    }
   ],
   "source": [
    "df"
   ]
  },
  {
   "cell_type": "code",
   "execution_count": 63,
   "id": "3a47f4f9-8e5a-40e1-9ef0-2bad77af71c3",
   "metadata": {},
   "outputs": [],
   "source": [
    "df[['gender_Male', 'region_Northwest',\n",
    "       'region_Southeast', 'region_Southwest', 'marital_status_Unmarried',\n",
    "       'bmi_category_Obesity', 'bmi_category_Overweight',\n",
    "       'bmi_category_Underweight', 'smoking_status_Occasional',\n",
    "       'smoking_status_Regular', 'employment_status_Salaried',\n",
    "       'employment_status_Self-Employed']] = [0,0,1,0,0,1,0,0,0,1,1,0]"
   ]
  },
  {
   "cell_type": "code",
   "execution_count": 64,
   "id": "fb4375a3-4c8c-4a27-9e86-2e7afdcdd82c",
   "metadata": {},
   "outputs": [
    {
     "data": {
      "text/html": [
       "<div>\n",
       "<style scoped>\n",
       "    .dataframe tbody tr th:only-of-type {\n",
       "        vertical-align: middle;\n",
       "    }\n",
       "\n",
       "    .dataframe tbody tr th {\n",
       "        vertical-align: top;\n",
       "    }\n",
       "\n",
       "    .dataframe thead th {\n",
       "        text-align: right;\n",
       "    }\n",
       "</style>\n",
       "<table border=\"1\" class=\"dataframe\">\n",
       "  <thead>\n",
       "    <tr style=\"text-align: right;\">\n",
       "      <th></th>\n",
       "      <th>age</th>\n",
       "      <th>number_of_dependants</th>\n",
       "      <th>income_lakhs</th>\n",
       "      <th>insurance_plan</th>\n",
       "      <th>genetical_risk</th>\n",
       "      <th>total_risk_score</th>\n",
       "      <th>gender_Male</th>\n",
       "      <th>region_Northwest</th>\n",
       "      <th>region_Southeast</th>\n",
       "      <th>region_Southwest</th>\n",
       "      <th>marital_status_Unmarried</th>\n",
       "      <th>bmi_category_Obesity</th>\n",
       "      <th>bmi_category_Overweight</th>\n",
       "      <th>bmi_category_Underweight</th>\n",
       "      <th>smoking_status_Occasional</th>\n",
       "      <th>smoking_status_Regular</th>\n",
       "      <th>employment_status_Salaried</th>\n",
       "      <th>employment_status_Self-Employed</th>\n",
       "    </tr>\n",
       "  </thead>\n",
       "  <tbody>\n",
       "    <tr>\n",
       "      <th>0</th>\n",
       "      <td>29</td>\n",
       "      <td>2</td>\n",
       "      <td>6</td>\n",
       "      <td>1</td>\n",
       "      <td>0</td>\n",
       "      <td>6</td>\n",
       "      <td>0</td>\n",
       "      <td>0</td>\n",
       "      <td>1</td>\n",
       "      <td>0</td>\n",
       "      <td>0</td>\n",
       "      <td>1</td>\n",
       "      <td>0</td>\n",
       "      <td>0</td>\n",
       "      <td>0</td>\n",
       "      <td>1</td>\n",
       "      <td>1</td>\n",
       "      <td>0</td>\n",
       "    </tr>\n",
       "  </tbody>\n",
       "</table>\n",
       "</div>"
      ],
      "text/plain": [
       "   age  number_of_dependants  income_lakhs  insurance_plan  genetical_risk  \\\n",
       "0   29                     2             6               1               0   \n",
       "\n",
       "   total_risk_score  gender_Male  region_Northwest  region_Southeast  \\\n",
       "0                 6            0                 0                 1   \n",
       "\n",
       "   region_Southwest  marital_status_Unmarried  bmi_category_Obesity  \\\n",
       "0                 0                         0                     1   \n",
       "\n",
       "   bmi_category_Overweight  bmi_category_Underweight  \\\n",
       "0                        0                         0   \n",
       "\n",
       "   smoking_status_Occasional  smoking_status_Regular  \\\n",
       "0                          0                       1   \n",
       "\n",
       "   employment_status_Salaried  employment_status_Self-Employed  \n",
       "0                           1                                0  "
      ]
     },
     "execution_count": 64,
     "metadata": {},
     "output_type": "execute_result"
    }
   ],
   "source": [
    "df"
   ]
  },
  {
   "cell_type": "code",
   "execution_count": 70,
   "id": "77ed0a84-8eaf-430b-af37-094bc68360f2",
   "metadata": {},
   "outputs": [],
   "source": [
    "m = art['model_data']['trained_model']\n",
    "mms = art['scaler_data']['scaler_object']"
   ]
  },
  {
   "cell_type": "code",
   "execution_count": 71,
   "id": "810e526c-cdf9-47f0-95ab-dfd8589ae717",
   "metadata": {},
   "outputs": [
    {
     "data": {
      "text/plain": [
       "array([42155.36], dtype=float32)"
      ]
     },
     "execution_count": 71,
     "metadata": {},
     "output_type": "execute_result"
    }
   ],
   "source": [
    "m.predict(df.iloc[[0]])"
   ]
  },
  {
   "cell_type": "code",
   "execution_count": 76,
   "id": "143a11d7-143c-435e-913a-50bdfdad5737",
   "metadata": {},
   "outputs": [
    {
     "data": {
      "text/plain": [
       "['age',\n",
       " 'number_of_dependants',\n",
       " 'income_level',\n",
       " 'income_lakhs',\n",
       " 'insurance_plan',\n",
       " 'genetical_risk',\n",
       " 'total_risk_score']"
      ]
     },
     "execution_count": 76,
     "metadata": {},
     "output_type": "execute_result"
    }
   ],
   "source": [
    "scaled_cols = art['scaler_data']['scaled_columns']\n",
    "scaled_cols"
   ]
  },
  {
   "cell_type": "code",
   "execution_count": 74,
   "id": "a406c5d1-5f60-40e8-a85e-96edf169ad2d",
   "metadata": {},
   "outputs": [],
   "source": [
    "df['income_level'] = None"
   ]
  },
  {
   "cell_type": "code",
   "execution_count": 77,
   "id": "bdf04b85-2bea-4492-8713-637bddcc0fce",
   "metadata": {},
   "outputs": [
    {
     "data": {
      "text/plain": [
       "array([[0.06521739, 0.4       ,        nan, 0.05050505, 0.        ,\n",
       "        0.        , 0.42857143]])"
      ]
     },
     "execution_count": 77,
     "metadata": {},
     "output_type": "execute_result"
    }
   ],
   "source": [
    "mms.transform(df[scaled_cols])"
   ]
  },
  {
   "cell_type": "code",
   "execution_count": 78,
   "id": "e5177fb5-67ad-4d70-9211-268e46feb025",
   "metadata": {},
   "outputs": [],
   "source": [
    "df[scaled_cols] = mms.transform(df[scaled_cols])"
   ]
  },
  {
   "cell_type": "code",
   "execution_count": 79,
   "id": "dbfae004-6e64-4bce-bf9c-e34433fcee93",
   "metadata": {},
   "outputs": [
    {
     "data": {
      "text/html": [
       "<div>\n",
       "<style scoped>\n",
       "    .dataframe tbody tr th:only-of-type {\n",
       "        vertical-align: middle;\n",
       "    }\n",
       "\n",
       "    .dataframe tbody tr th {\n",
       "        vertical-align: top;\n",
       "    }\n",
       "\n",
       "    .dataframe thead th {\n",
       "        text-align: right;\n",
       "    }\n",
       "</style>\n",
       "<table border=\"1\" class=\"dataframe\">\n",
       "  <thead>\n",
       "    <tr style=\"text-align: right;\">\n",
       "      <th></th>\n",
       "      <th>age</th>\n",
       "      <th>number_of_dependants</th>\n",
       "      <th>income_lakhs</th>\n",
       "      <th>insurance_plan</th>\n",
       "      <th>genetical_risk</th>\n",
       "      <th>total_risk_score</th>\n",
       "      <th>gender_Male</th>\n",
       "      <th>region_Northwest</th>\n",
       "      <th>region_Southeast</th>\n",
       "      <th>region_Southwest</th>\n",
       "      <th>marital_status_Unmarried</th>\n",
       "      <th>bmi_category_Obesity</th>\n",
       "      <th>bmi_category_Overweight</th>\n",
       "      <th>bmi_category_Underweight</th>\n",
       "      <th>smoking_status_Occasional</th>\n",
       "      <th>smoking_status_Regular</th>\n",
       "      <th>employment_status_Salaried</th>\n",
       "      <th>employment_status_Self-Employed</th>\n",
       "      <th>income_level</th>\n",
       "    </tr>\n",
       "  </thead>\n",
       "  <tbody>\n",
       "    <tr>\n",
       "      <th>0</th>\n",
       "      <td>0.065217</td>\n",
       "      <td>0.4</td>\n",
       "      <td>0.050505</td>\n",
       "      <td>0.0</td>\n",
       "      <td>0.0</td>\n",
       "      <td>0.428571</td>\n",
       "      <td>0</td>\n",
       "      <td>0</td>\n",
       "      <td>1</td>\n",
       "      <td>0</td>\n",
       "      <td>0</td>\n",
       "      <td>1</td>\n",
       "      <td>0</td>\n",
       "      <td>0</td>\n",
       "      <td>0</td>\n",
       "      <td>1</td>\n",
       "      <td>1</td>\n",
       "      <td>0</td>\n",
       "      <td>NaN</td>\n",
       "    </tr>\n",
       "  </tbody>\n",
       "</table>\n",
       "</div>"
      ],
      "text/plain": [
       "        age  number_of_dependants  income_lakhs  insurance_plan  \\\n",
       "0  0.065217                   0.4      0.050505             0.0   \n",
       "\n",
       "   genetical_risk  total_risk_score  gender_Male  region_Northwest  \\\n",
       "0             0.0          0.428571            0                 0   \n",
       "\n",
       "   region_Southeast  region_Southwest  marital_status_Unmarried  \\\n",
       "0                 1                 0                         0   \n",
       "\n",
       "   bmi_category_Obesity  bmi_category_Overweight  bmi_category_Underweight  \\\n",
       "0                     1                        0                         0   \n",
       "\n",
       "   smoking_status_Occasional  smoking_status_Regular  \\\n",
       "0                          0                       1   \n",
       "\n",
       "   employment_status_Salaried  employment_status_Self-Employed  income_level  \n",
       "0                           1                                0           NaN  "
      ]
     },
     "execution_count": 79,
     "metadata": {},
     "output_type": "execute_result"
    }
   ],
   "source": [
    "df"
   ]
  },
  {
   "cell_type": "code",
   "execution_count": 84,
   "id": "fffe95e8-8e3a-4309-b19b-c96f513d7515",
   "metadata": {},
   "outputs": [],
   "source": [
    "df.drop('income_level',axis=1,inplace=True)"
   ]
  },
  {
   "cell_type": "code",
   "execution_count": 85,
   "id": "aa313a19-45fc-4641-a960-50f5a0013973",
   "metadata": {},
   "outputs": [
    {
     "data": {
      "text/html": [
       "<div>\n",
       "<style scoped>\n",
       "    .dataframe tbody tr th:only-of-type {\n",
       "        vertical-align: middle;\n",
       "    }\n",
       "\n",
       "    .dataframe tbody tr th {\n",
       "        vertical-align: top;\n",
       "    }\n",
       "\n",
       "    .dataframe thead th {\n",
       "        text-align: right;\n",
       "    }\n",
       "</style>\n",
       "<table border=\"1\" class=\"dataframe\">\n",
       "  <thead>\n",
       "    <tr style=\"text-align: right;\">\n",
       "      <th></th>\n",
       "      <th>age</th>\n",
       "      <th>number_of_dependants</th>\n",
       "      <th>income_lakhs</th>\n",
       "      <th>insurance_plan</th>\n",
       "      <th>genetical_risk</th>\n",
       "      <th>total_risk_score</th>\n",
       "      <th>gender_Male</th>\n",
       "      <th>region_Northwest</th>\n",
       "      <th>region_Southeast</th>\n",
       "      <th>region_Southwest</th>\n",
       "      <th>marital_status_Unmarried</th>\n",
       "      <th>bmi_category_Obesity</th>\n",
       "      <th>bmi_category_Overweight</th>\n",
       "      <th>bmi_category_Underweight</th>\n",
       "      <th>smoking_status_Occasional</th>\n",
       "      <th>smoking_status_Regular</th>\n",
       "      <th>employment_status_Salaried</th>\n",
       "      <th>employment_status_Self-Employed</th>\n",
       "    </tr>\n",
       "  </thead>\n",
       "  <tbody>\n",
       "    <tr>\n",
       "      <th>0</th>\n",
       "      <td>0.065217</td>\n",
       "      <td>0.4</td>\n",
       "      <td>0.050505</td>\n",
       "      <td>0.0</td>\n",
       "      <td>0.0</td>\n",
       "      <td>0.428571</td>\n",
       "      <td>0</td>\n",
       "      <td>0</td>\n",
       "      <td>1</td>\n",
       "      <td>0</td>\n",
       "      <td>0</td>\n",
       "      <td>1</td>\n",
       "      <td>0</td>\n",
       "      <td>0</td>\n",
       "      <td>0</td>\n",
       "      <td>1</td>\n",
       "      <td>1</td>\n",
       "      <td>0</td>\n",
       "    </tr>\n",
       "  </tbody>\n",
       "</table>\n",
       "</div>"
      ],
      "text/plain": [
       "        age  number_of_dependants  income_lakhs  insurance_plan  \\\n",
       "0  0.065217                   0.4      0.050505             0.0   \n",
       "\n",
       "   genetical_risk  total_risk_score  gender_Male  region_Northwest  \\\n",
       "0             0.0          0.428571            0                 0   \n",
       "\n",
       "   region_Southeast  region_Southwest  marital_status_Unmarried  \\\n",
       "0                 1                 0                         0   \n",
       "\n",
       "   bmi_category_Obesity  bmi_category_Overweight  bmi_category_Underweight  \\\n",
       "0                     1                        0                         0   \n",
       "\n",
       "   smoking_status_Occasional  smoking_status_Regular  \\\n",
       "0                          0                       1   \n",
       "\n",
       "   employment_status_Salaried  employment_status_Self-Employed  \n",
       "0                           1                                0  "
      ]
     },
     "execution_count": 85,
     "metadata": {},
     "output_type": "execute_result"
    }
   ],
   "source": [
    "df"
   ]
  },
  {
   "cell_type": "code",
   "execution_count": 86,
   "id": "4161199f-c754-48f6-afd6-721ebeca2ddf",
   "metadata": {},
   "outputs": [
    {
     "data": {
      "text/plain": [
       "array([16060.849], dtype=float32)"
      ]
     },
     "execution_count": 86,
     "metadata": {},
     "output_type": "execute_result"
    }
   ],
   "source": [
    "m.predict(df.iloc[[0]])"
   ]
  },
  {
   "cell_type": "code",
   "execution_count": null,
   "id": "f93ae0a1-5d42-46cc-bd06-5dd5213ede1e",
   "metadata": {},
   "outputs": [],
   "source": []
  },
  {
   "cell_type": "code",
   "execution_count": 22,
   "id": "960dc0d7-752e-40d2-8d2f-968d27405e85",
   "metadata": {},
   "outputs": [
    {
     "data": {
      "text/plain": [
       "['high blood pressure', 'heart disease']"
      ]
     },
     "execution_count": 22,
     "metadata": {},
     "output_type": "execute_result"
    }
   ],
   "source": [
    "temp = [ 'No Disease', 'Diabetes', 'High Blood Pressure', 'Thyroid', \n",
    "                        'Heart Disease', 'Diabetes & High Blood Pressure', 'Diabetes & Thyroid', \n",
    "                        'Diabetes & Heart Disease', 'High Blood Pressure & Heart Disease']\n",
    "\n",
    "risk_score_dict = {\n",
    "    'heart disease' : 8,\n",
    "'diabetes' : 6,\n",
    "'high blood pressure' : 6,\n",
    "'thyroid' : 5,\n",
    "'no disease' : 0,\n",
    "None : 0\n",
    "}\n",
    "\n",
    "# for i in temp:\n",
    "#     medical_history = i\n",
    "#     t = medical_history.lower().split(' & ')\n",
    "#     for j in t:\n",
    "#         if j in risk_score_dict:\n",
    "#             print('Yes',j)\n",
    "\n",
    "medical_history = 'High Blood Pressure & Heart Disease'\n",
    "t = medical_history.lower().split(' & ')\n",
    "t"
   ]
  },
  {
   "cell_type": "code",
   "execution_count": 23,
   "id": "a8bab210-a24a-488f-aea4-210666908ebe",
   "metadata": {},
   "outputs": [
    {
     "name": "stdout",
     "output_type": "stream",
     "text": [
      "6\n",
      "8\n"
     ]
    }
   ],
   "source": [
    "for j in t:\n",
    "    print(risk_score_dict[j])"
   ]
  },
  {
   "cell_type": "code",
   "execution_count": 24,
   "id": "b7a7ccfe-1ebc-493e-bc8c-cfc9d3d55374",
   "metadata": {},
   "outputs": [
    {
     "data": {
      "text/plain": [
       "['heart disease']"
      ]
     },
     "execution_count": 24,
     "metadata": {},
     "output_type": "execute_result"
    }
   ],
   "source": [
    "medical_history = 'Heart Disease'\n",
    "medical_history.lower().split(' & ')"
   ]
  },
  {
   "cell_type": "code",
   "execution_count": null,
   "id": "f2e180e0-41d6-4a47-802c-37f76eeb9ba8",
   "metadata": {},
   "outputs": [],
   "source": []
  }
 ],
 "metadata": {
  "kernelspec": {
   "display_name": "Python 3 (ipykernel)",
   "language": "python",
   "name": "python3"
  },
  "language_info": {
   "codemirror_mode": {
    "name": "ipython",
    "version": 3
   },
   "file_extension": ".py",
   "mimetype": "text/x-python",
   "name": "python",
   "nbconvert_exporter": "python",
   "pygments_lexer": "ipython3",
   "version": "3.13.5"
  }
 },
 "nbformat": 4,
 "nbformat_minor": 5
}
